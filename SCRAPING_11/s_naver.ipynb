{
 "cells": [
  {
   "cell_type": "code",
   "execution_count": 7,
   "id": "69991e9d",
   "metadata": {},
   "outputs": [],
   "source": [
    "# import requests   셀레니움은 테스트 브라우저를 쓰는데 브라우저에 요청을 보내는 기능이 내장\n",
    "from bs4 import BeautifulSoup\n",
    "from selenium import webdriver\n",
    "from selenium.webdriver.chrome.options import Options\n",
    "import time"
   ]
  },
  {
   "cell_type": "code",
   "execution_count": null,
   "id": "2d1e7486",
   "metadata": {},
   "outputs": [],
   "source": [
    "#keyword=input('키워드 : ')\n",
    "keyword=\"커피\"\n",
    "base_url=\"https://search.naver.com/search.naver?ssc=tab.blog.all&sm=tab_jum&query=\"+keyword\n",
    "\n",
    "#req = requests.get(base_url)\n",
    "\n",
    "option_=Options()   # 인스턴스화\n",
    "option_.add_experimental_option(\"detach\",True)  # 자동으로 브라우저가 종료되지 않게 설정"
   ]
  },
  {
   "cell_type": "code",
   "execution_count": null,
   "id": "ad0e19c2",
   "metadata": {},
   "outputs": [],
   "source": [
    "driver=webdriver.Chrome(options=option_)\n",
    "driver.get(base_url)\n",
    "time.sleep(2)   # 브라우저가 자동으로 종료되지 않게 설정하지 않았다면 이걸로 결과 확인\n",
    "\n",
    "# 스크롤\n",
    "for i in range(5):\n",
    "    driver.execute_script(\"window.scrollTo(0, document.body.scrollHeight)\")\n",
    "    time.sleep(1)\n",
    "    \n",
    "# html=req.text\n",
    "html=driver.page_source\n",
    "soup=BeautifulSoup(html,\"html.parser\")\n",
    "\n",
    "driver.quit()"
   ]
  },
  {
   "cell_type": "code",
   "execution_count": null,
   "id": "9d4585d7",
   "metadata": {},
   "outputs": [
    {
     "name": "stdout",
     "output_type": "stream",
     "text": [
      "제목 : 모카포트커피 원두가 핵심입니다\n",
      "링크 : https://blog.naver.com/daeun9012/223890087302\n",
      "작성자 : Just the way u are\n",
      "글요약 : 모카포트로 유튜버처럼 감성 넘치는 홈카페 차리기 요즘 일본에 사는 한국인들의 일상 브이로그를 자주 챙겨보는데요~ 도쿄 일상 브이로그를 보면 유튜버가 항상 모카포트로 커피를 내려 마시거든요. 그 몽글몽글하고 여유로운 감성이 부러운 거예요ㅠㅠ 그래서 저도 이번에 모카포트커피에 도전하기 위해 모카포트 하나 장만했어요! 모카포트는 여러분도 아시듯이 전기가...\n",
      "-------------------\n"
     ]
    }
   ],
   "source": [
    "# 문서를 항목별로 가져옴\n",
    "results=soup.select(\".view_wrap\")   # 선택자사용, select/select_one, 리턴은 리스트 -> For문 가능\n",
    "\n",
    "for i in results : \n",
    "    title=i.select_one(\".title_link\").text\n",
    "    link=i.select_one(\".title_link\")[\"href\"]    # 옵션 입력\n",
    "    writer=i.select_one(\".name\").text\n",
    "    dsc=i.select_one(\".dsc_link\").text\n",
    "    print(f\"\"\"제목 : {title}\n",
    "링크 : {link}\n",
    "작성자 : {writer}\n",
    "글요약 : {dsc}\"\"\")\n",
    "    print(\"-------------------\")\n",
    "    \n",
    "    break"
   ]
  }
 ],
 "metadata": {
  "kernelspec": {
   "display_name": "Python 3",
   "language": "python",
   "name": "python3"
  },
  "language_info": {
   "codemirror_mode": {
    "name": "ipython",
    "version": 3
   },
   "file_extension": ".py",
   "mimetype": "text/x-python",
   "name": "python",
   "nbconvert_exporter": "python",
   "pygments_lexer": "ipython3",
   "version": "3.12.6"
  }
 },
 "nbformat": 4,
 "nbformat_minor": 5
}

{
 "cells": [
  {
   "cell_type": "code",
   "execution_count": null,
   "id": "5cff6bd5",
   "metadata": {},
   "outputs": [],
   "source": [
    "from bs4 import BeautifulSoup\n",
    "from selenium import webdriver\n",
    "from selenium.webdriver.chrome.options import Options\n",
    "import time\n",
    "\n",
    "base_url=\"https://kream.co.kr/\"\n",
    "\n",
    "option_=Options()   # 인스턴스화\n",
    "option_.add_experimental_option(\"detach\",True)  # 자동으로 브라우저가 종료되지 않게 설정\n",
    "header_user=\"Mozilla/5.0 (Macintosh; Intel Mac OS X 10_15_7) AppleWebKit/537.36 (KHTML, like Gecko) Chrome/137.0.0.0 Safari/537.36\"\n",
    "option_.add_argument(f\"User-Agent={header_user}\")\n",
    "\n",
    "driver=webdriver.Chrome(options=option_)\n",
    "driver.get(base_url)\n",
    "time.sleep(3)   # 브라우저가 자동으로 종료되지 않게 설정하지 않았다면 이걸로 결과 확인\n",
    "\n",
    "driver.quit()"
   ]
  },
  {
   "cell_type": "code",
   "execution_count": 7,
   "id": "1faef11b",
   "metadata": {},
   "outputs": [],
   "source": [
    "# css 선택자를 이용해서 원하는 값을 가져오기 위한 패키지\n",
    "from selenium.webdriver.common.by import By\n",
    "# 키보드의 입력 형태를 코드로 작성하기 위해 사용하는 패키지\n",
    "from selenium.webdriver.common.keys import Keys"
   ]
  },
  {
   "cell_type": "code",
   "execution_count": 9,
   "id": "349e0377",
   "metadata": {},
   "outputs": [],
   "source": [
    "driver=webdriver.Chrome(options=option_)\n",
    "driver.get(base_url)\n",
    "time.sleep(1)\n",
    "\n",
    "driver.find_element(By.CSS_SELECTOR,\".btn_search.header-search-button.search-button-margin\").click()\n",
    "time.sleep(1)\n",
    "driver.find_element(By.CSS_SELECTOR,\".input_search.show_placeholder_on_focus\").send_keys(\"슈프림\")\n",
    "\n",
    "time.sleep(3)\n",
    "driver.quit()"
   ]
  }
 ],
 "metadata": {
  "kernelspec": {
   "display_name": "Python 3",
   "language": "python",
   "name": "python3"
  },
  "language_info": {
   "codemirror_mode": {
    "name": "ipython",
    "version": 3
   },
   "file_extension": ".py",
   "mimetype": "text/x-python",
   "name": "python",
   "nbconvert_exporter": "python",
   "pygments_lexer": "ipython3",
   "version": "3.12.6"
  }
 },
 "nbformat": 4,
 "nbformat_minor": 5
}

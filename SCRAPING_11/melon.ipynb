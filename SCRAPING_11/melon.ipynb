{
 "cells": [
  {
   "cell_type": "code",
   "execution_count": 1,
   "id": "5ecf4f5e",
   "metadata": {},
   "outputs": [
    {
     "name": "stdout",
     "output_type": "stream",
     "text": [
      "<Response [406]>\n"
     ]
    }
   ],
   "source": [
    "import requests\n",
    "from bs4 import BeautifulSoup\n",
    "\n",
    "base_url=\"https://www.melon.com/chart/index.htm\"\n",
    "\n",
    "req=requests.get(base_url)\n",
    "html=req.text\n",
    "\n",
    "soup=BeautifulSoup(html,\"html.parser\")\n",
    "print(req)"
   ]
  },
  {
   "cell_type": "code",
   "execution_count": 3,
   "id": "d9f6a477",
   "metadata": {},
   "outputs": [
    {
     "name": "stdout",
     "output_type": "stream",
     "text": [
      "<Response [200]>\n"
     ]
    }
   ],
   "source": [
    "# 유저 정보를 추가하여 요청\n",
    "# 딕셔너리 키값형태\n",
    "header_user={\"User-Agent\":\"Mozilla/5.0 (Macintosh; Intel Mac OS X 10_15_7) AppleWebKit/537.36 (KHTML, like Gecko) Chrome/137.0.0.0 Safari/537.36\"}\n",
    "\n",
    "base_url=\"https://www.melon.com/chart/index.htm\"\n",
    "req=requests.get(base_url, headers=header_user)\n",
    "html=req.text\n",
    "soup=BeautifulSoup(html,\"html.parser\")\n",
    "print(req)"
   ]
  },
  {
   "cell_type": "code",
   "execution_count": null,
   "id": "6c344abf",
   "metadata": {},
   "outputs": [
    {
     "name": "stdout",
     "output_type": "stream",
     "text": [
      "[순위] : 1\n",
      "[제목] : 너에게 닿기를\n",
      "[가수] : 10CM\n",
      "[앨범] : 너에게 닿기를\n",
      "----------------------------------------\n"
     ]
    }
   ],
   "source": [
    "# lst_all=soup.select(\".lst50, .las100\")\n",
    "lst50=soup.select(\".lst50\")     # 50위까지의 정보\n",
    "lst100=soup.select(\".lst100\")\n",
    "lst_all=lst50+lst100            # len(lst_all) : 개수확인\n",
    "\n",
    "for rank, i in enumerate(lst_all,1):    # 아무 변수나 앞에 붙여서 인덱스를 붙임\n",
    "    title=i.select_one(\".ellipsis.rank01 a\").text     # 여러 클래스의 넣고 안쪽의 a태그 지칭\n",
    "    singer=i.select_one(\".ellipsis.rank02 a\").text\n",
    "    album=i.select_one(\".ellipsis.rank03 a\").text\n",
    "    print(f\"[순위] : {rank}\")\n",
    "    print(f\"[제목] : {title}\")\n",
    "    print(f\"[가수] : {singer}\")\n",
    "    print(f\"[앨범] : {album}\")\n",
    "    print(\"-\"*40)\n",
    "    \n",
    "    break"
   ]
  }
 ],
 "metadata": {
  "kernelspec": {
   "display_name": "Python 3",
   "language": "python",
   "name": "python3"
  },
  "language_info": {
   "codemirror_mode": {
    "name": "ipython",
    "version": 3
   },
   "file_extension": ".py",
   "mimetype": "text/x-python",
   "name": "python",
   "nbconvert_exporter": "python",
   "pygments_lexer": "ipython3",
   "version": "3.12.6"
  }
 },
 "nbformat": 4,
 "nbformat_minor": 5
}

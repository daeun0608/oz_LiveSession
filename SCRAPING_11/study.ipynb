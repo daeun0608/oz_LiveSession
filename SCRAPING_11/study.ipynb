{
 "cells": [
  {
   "cell_type": "markdown",
   "id": "26b54777",
   "metadata": {},
   "source": [
    "www.naver.com -> DNS -> 192.0.15.19 -> 각:데이터센터, 네이버 서버 컴퓨터 -> html /(속도차이)/ css,js를 전송"
   ]
  },
  {
   "cell_type": "markdown",
   "id": "21af6033",
   "metadata": {},
   "source": [
    "robots.txt : 웹사이트에서 크롤러(검색 엔진)에게 무시할 부분과 우선적으로 크롤링할 부분을 알려주는 역할"
   ]
  },
  {
   "cell_type": "markdown",
   "id": "84df3b92",
   "metadata": {},
   "source": [
    "[200] : 전송 성공<br>\n",
    "[400] : 요청 실패<br>\n",
    "[406] : 요청 거부"
   ]
  },
  {
   "cell_type": "code",
   "execution_count": null,
   "id": "5a858bfe",
   "metadata": {
    "vscode": {
     "languageId": "plaintext"
    }
   },
   "outputs": [],
   "source": []
  }
 ],
 "metadata": {
  "language_info": {
   "name": "python"
  }
 },
 "nbformat": 4,
 "nbformat_minor": 5
}

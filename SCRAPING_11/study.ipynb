{
 "cells": [
  {
   "cell_type": "code",
   "execution_count": null,
   "id": "a31cf42f",
   "metadata": {},
   "outputs": [],
   "source": [
    "# pip3 install requests             요청\n",
    "# pip3 install beautifulsoup4       문자열을 html문서로 파싱\n",
    "import requests\n",
    "from bs4 import BeautifulSoup\n",
    "\n",
    "# pip3 install selenium             동적 크롤링\n",
    "# pip3 install webdriver_manager    브라우저 버전을 인식하고 연결(selenium)\n",
    "from selenium import webdriver\n",
    "from selenium.webdriver.chrome.options import Options\n",
    "import time"
   ]
  },
  {
   "cell_type": "markdown",
   "id": "26b54777",
   "metadata": {},
   "source": [
    "www.naver.com -> DNS -> 192.0.15.19 -> 각:데이터센터, 네이버 서버 컴퓨터 -> html /(속도차이)/ css,js를 전송"
   ]
  },
  {
   "cell_type": "markdown",
   "id": "21af6033",
   "metadata": {},
   "source": [
    "robots.txt : 웹사이트에서 크롤러(검색 엔진)에게 무시할 부분과 우선적으로 크롤링할 부분을 알려주는 역할"
   ]
  },
  {
   "cell_type": "markdown",
   "id": "84df3b92",
   "metadata": {},
   "source": [
    "[200] : 전송 성공<br>\n",
    "[400] : 요청 실패<br>\n",
    "[406] : 요청 거부"
   ]
  },
  {
   "cell_type": "markdown",
   "id": "7f21d318",
   "metadata": {},
   "source": [
    "셀레니움Selenium : 동적 크롤링의 대표적인 프로그램"
   ]
  }
 ],
 "metadata": {
  "kernelspec": {
   "display_name": "Python 3",
   "language": "python",
   "name": "python3"
  },
  "language_info": {
   "codemirror_mode": {
    "name": "ipython",
    "version": 3
   },
   "file_extension": ".py",
   "mimetype": "text/x-python",
   "name": "python",
   "nbconvert_exporter": "python",
   "pygments_lexer": "ipython3",
   "version": "3.12.6"
  }
 },
 "nbformat": 4,
 "nbformat_minor": 5
}
